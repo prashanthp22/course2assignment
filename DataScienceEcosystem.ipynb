{
 "cells": [
  {
   "cell_type": "markdown",
   "id": "f8c3ca61-375f-4c19-ac33-522ef5fc37a3",
   "metadata": {},
   "source": [
    "# Data Science Tools and Ecosystem"
   ]
  },
  {
   "cell_type": "markdown",
   "id": "4f88a142-6226-4bf5-9bbc-280478ec8a9e",
   "metadata": {},
   "source": [
    "Data science tools are primarily used to perform data science tasks. These tasks can be divided into several catogories, namely : Data management, Data integration and transformation, Data visualization, Model building, Model deplpoyment, and, Model monitering and assessment. To assist these tasks management systems or Environments are required, they are also catogorised as, Code asset management, Data asset management, Development environments, and, Execution environment. As mentioned earlier to perform all these tasks a set of tools and ecosystems are available in each catogory."
   ]
  },
  {
   "cell_type": "markdown",
   "id": "9e2d46c5-ae09-4c35-b308-900bb914b8c0",
   "metadata": {
    "tags": []
   },
   "source": [
    "__Objectives__\n",
    "- Understand data science task and its catogries\n",
    "- List popular data science tools and languages\n",
    "- Writing simple codes in R and Python\n",
    "- Understand the need for version control system like GIT in data science"
   ]
  },
  {
   "cell_type": "markdown",
   "id": "9b21d315-9b30-4270-96ab-4ded21f60bc2",
   "metadata": {},
   "source": [
    "Some of the popular languages that Data Scientists use are:\n",
    "1. Python\n",
    "2. R\n",
    "3. Scala\n",
    "4. SQL\n",
    "5. Java powered\n",
    "6. C++\n",
    "7. PhP\n",
    "8. Julia\n",
    "9. JS\n",
    "10. Rubi\n",
    "11. Go\n",
    "12. Visual Basic"
   ]
  },
  {
   "cell_type": "markdown",
   "id": "eb79e87b-9fb1-4b8c-a6d0-870934177923",
   "metadata": {
    "tags": []
   },
   "source": [
    "Some of the commonly used libraries used by Data Scientists include:\n",
    "1. Pandas\n",
    "2. NumPy\n",
    "3. Matplotlib\n",
    "4. Seaborn\n",
    "5. Scikit-learn\n",
    "6. Keras\n",
    "7. Tensor Flow\n",
    "8. PyTorch\n"
   ]
  },
  {
   "cell_type": "markdown",
   "id": "20d197fd-cc14-4891-9cad-d469703b924d",
   "metadata": {},
   "source": [
    "|Data Science Tools|\n",
    "|---|\n",
    "|Jupyter lab|\n",
    "|R studio|\n",
    "|Spyder|"
   ]
  },
  {
   "cell_type": "markdown",
   "id": "4544d622-4f02-403d-bb6a-b2773c866aae",
   "metadata": {},
   "source": [
    "### Below are a few examples of evaluating arithmetic expressions in Python"
   ]
  },
  {
   "cell_type": "code",
   "execution_count": 2,
   "id": "a18e8c28-5b0a-46d3-93a9-0a08723335bb",
   "metadata": {
    "tags": []
   },
   "outputs": [
    {
     "data": {
      "text/plain": [
       "17"
      ]
     },
     "execution_count": 2,
     "metadata": {},
     "output_type": "execute_result"
    }
   ],
   "source": [
    "# This a simple arithmetic expression to mutiply then add integers\n",
    "(3*4)+5"
   ]
  },
  {
   "cell_type": "code",
   "execution_count": 9,
   "id": "1e688791-e178-4e94-a211-b15284c5d712",
   "metadata": {
    "tags": []
   },
   "outputs": [
    {
     "name": "stdout",
     "output_type": "stream",
     "text": [
      "200  minutes = 3.3333333333333335  hours\n"
     ]
    }
   ],
   "source": [
    "# This will convert 200 minutes to hours by diving by 60\n",
    "print (200, \" minutes =\", 200/60, \" hours\")"
   ]
  },
  {
   "cell_type": "markdown",
   "id": "357f17df-e4ec-44ef-83cf-552596f2c2e0",
   "metadata": {},
   "source": [
    "## Author\n",
    "Prashanth"
   ]
  },
  {
   "cell_type": "code",
   "execution_count": null,
   "id": "d20e8002-e463-436b-8917-ea9f2838a58e",
   "metadata": {},
   "outputs": [],
   "source": []
  }
 ],
 "metadata": {
  "kernelspec": {
   "display_name": "Python 3 (ipykernel)",
   "language": "python",
   "name": "python3"
  },
  "language_info": {
   "codemirror_mode": {
    "name": "ipython",
    "version": 3
   },
   "file_extension": ".py",
   "mimetype": "text/x-python",
   "name": "python",
   "nbconvert_exporter": "python",
   "pygments_lexer": "ipython3",
   "version": "3.11.5"
  }
 },
 "nbformat": 4,
 "nbformat_minor": 5
}
